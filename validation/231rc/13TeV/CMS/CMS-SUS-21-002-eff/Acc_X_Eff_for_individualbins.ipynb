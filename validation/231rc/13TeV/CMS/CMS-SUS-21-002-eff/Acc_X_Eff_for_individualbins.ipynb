{
 "cells": [
  {
   "cell_type": "code",
   "execution_count": 1,
   "id": "6b6e5bdb",
   "metadata": {},
   "outputs": [],
   "source": [
    "import csv"
   ]
  },
  {
   "cell_type": "markdown",
   "id": "8241c99e",
   "metadata": {},
   "source": [
    "# b-Veto SR TChiWW"
   ]
  },
  {
   "cell_type": "code",
   "execution_count": 68,
   "id": "e9bfa574",
   "metadata": {},
   "outputs": [],
   "source": [
    "bin = ['200','250','300','350','400','450','500','600','800']\n",
    "with open(\"orig/HEPData-1680807545-v1-Acc_X_Eff_for_TChiWW_in_b-Veto.csv\", 'r') as file:\n",
    "    csvreader = csv.reader(file)\n",
    "    for line in csvreader:\n",
    "        if '#' in line[0] or '$' in line[0]: continue\n",
    "        #if bin[8] in line[3] : print(line[0],line[1],line[3],line[5])"
   ]
  },
  {
   "cell_type": "code",
   "execution_count": 24,
   "id": "16eda63f",
   "metadata": {},
   "outputs": [],
   "source": [
    "for i in range(len(bin)):\n",
    "    with open(f\"orig/Acc_X_Eff_for_TChiWW_in_b-Veto_bin{i+1}.csv\",'w') as out:\n",
    "        out.write('#: name: Acc X Eff for TChiWW in b-Veto with pT miss {} \\n'.format(bin[i]))\n",
    "        out.write('#: description: Acceptance times efficiency for TChiWW in b-Veto region with pT miss(low) {}. Bins with 0 values are indicated by $1e^(-12)\\pm 1e^(-12)$.\\n'.format(bin[i]))\n",
    "        out.write('$m_{NLSP}$ [GeV],$m_{LSP}$ [GeV],Acceptance x Efficiency \\n')\n",
    "        with open(\"orig/HEPData-1680807545-v1-Acc_X_Eff_for_TChiWW_in_b-Veto.csv\", 'r') as file:\n",
    "            csvreader = csv.reader(file)\n",
    "            for line in csvreader:\n",
    "                if '#' in line[0] or '$' in line[0]: continue\n",
    "                if bin[i] in line[3]: \n",
    "                    out.write('{},{},{} \\n'.format(line[0],line[1],line[5]))   "
   ]
  },
  {
   "cell_type": "markdown",
   "id": "dc7ae2c9",
   "metadata": {},
   "source": [
    "# b-Veto SR TChiWZ"
   ]
  },
  {
   "cell_type": "code",
   "execution_count": 25,
   "id": "3c019b40",
   "metadata": {},
   "outputs": [],
   "source": [
    "bin = ['200','250','300','350','400','450','500','600','800']\n",
    "with open(\"orig/HEPData-1680807545-v1-Acc_X_Eff_for_TChiWZ_in_b-Veto.csv\", 'r') as file:\n",
    "    csvreader = csv.reader(file)\n",
    "    for line in csvreader:\n",
    "        if '#' in line[0] or '$' in line[0]: continue\n",
    "        #if bin[0] in line[3] : print(line[0],line[1],line[3],line[5])"
   ]
  },
  {
   "cell_type": "code",
   "execution_count": 26,
   "id": "0ed2d824",
   "metadata": {},
   "outputs": [],
   "source": [
    "for i in range(len(bin)):\n",
    "    with open(f\"orig/Acc_X_Eff_for_TChiWZ_in_b-Veto_bin{i+1}.csv\",'w') as out:\n",
    "        out.write('#: name: Acc X Eff for TChiWZ in b-Veto with pT miss {} \\n'.format(bin[i]))\n",
    "        out.write('#: description: Acceptance times efficiency for TChiWZ in b-Veto region with pT miss(low) {}. Bins with 0 values are indicated by $1e^(-12)\\pm 1e^(-12)$.\\n'.format(bin[i]))\n",
    "        out.write('$m_{NLSP}$ [GeV],$m_{LSP}$ [GeV],Acceptance x Efficiency \\n')\n",
    "        with open(\"orig/HEPData-1680807545-v1-Acc_X_Eff_for_TChiWZ_in_b-Veto.csv\", 'r') as file:\n",
    "            csvreader = csv.reader(file)\n",
    "            for line in csvreader:\n",
    "                if '#' in line[0] or '$' in line[0]: continue\n",
    "                if bin[i] in line[3]: \n",
    "                    out.write('{},{},{} \\n'.format(line[0],line[1],line[5]))"
   ]
  },
  {
   "cell_type": "markdown",
   "id": "73a3cb70",
   "metadata": {},
   "source": [
    "# b-Veto SR TChiWH"
   ]
  },
  {
   "cell_type": "code",
   "execution_count": 29,
   "id": "a582eb69",
   "metadata": {},
   "outputs": [],
   "source": [
    "bin = ['200','250','300','350','400','450','500','600','800']\n",
    "with open(\"orig/HEPData-1680807545-v1-Acc_X_Eff_for_TChiWZ_in_b-Veto.csv\", 'r') as file:\n",
    "    csvreader = csv.reader(file)\n",
    "    for line in csvreader:\n",
    "        if '#' in line[0] or '$' in line[0]: continue\n",
    "        #if bin[0] in line[3] : print(line[0],line[1],line[3],line[5])"
   ]
  },
  {
   "cell_type": "code",
   "execution_count": 30,
   "id": "0c6aa1b8",
   "metadata": {},
   "outputs": [],
   "source": [
    "for i in range(len(bin)):\n",
    "    with open(f\"orig/Acc_X_Eff_for_TChiWH_in_b-Veto_bin{i+1}.csv\",'w') as out:\n",
    "        out.write('#: name: Acc X Eff for TChiWH in b-Veto with pT miss {} \\n'.format(bin[i]))\n",
    "        out.write('#: description: Acceptance times efficiency for TChiWH in b-Veto region with pT miss(low) {}. Bins with 0 values are indicated by $1e^(-12)\\pm 1e^(-12)$.\\n'.format(bin[i]))\n",
    "        out.write('$m_{NLSP}$ [GeV],$m_{LSP}$ [GeV],Acceptance x Efficiency \\n')\n",
    "        with open(\"orig/HEPData-1680807545-v1-Acc_X_Eff_for_TChiWH_in_b-Veto.csv\", 'r') as file:\n",
    "            csvreader = csv.reader(file)\n",
    "            for line in csvreader:\n",
    "                if '#' in line[0] or '$' in line[0]: continue\n",
    "                if bin[i] in line[3]: \n",
    "                    out.write('{},{},{} \\n'.format(line[0],line[1],line[5]))"
   ]
  },
  {
   "cell_type": "markdown",
   "id": "4eca4b5a",
   "metadata": {},
   "source": [
    "# WH SR TChiWW"
   ]
  },
  {
   "cell_type": "code",
   "execution_count": 36,
   "id": "8e95fbb5",
   "metadata": {},
   "outputs": [],
   "source": [
    "bin = ['200','250','300','350','400','450','500','600']\n",
    "with open(\"orig/HEPData-1680807545-v1-Acc_X_Eff_for_TChiWW_in_WHSR.csv\", 'r') as file:\n",
    "    csvreader = csv.reader(file)\n",
    "    for line in csvreader:\n",
    "        if '#' in line[0] or '$' in line[0]: continue\n",
    "        #if bin[6] in line[3] : print(line[0],line[1],line[3],line[5])"
   ]
  },
  {
   "cell_type": "code",
   "execution_count": 37,
   "id": "4e155747",
   "metadata": {},
   "outputs": [],
   "source": [
    "for i in range(len(bin)):\n",
    "    with open(f\"orig/Acc_X_Eff_for_TChiWW_in_WHSR_bin{i+1}.csv\",'w') as out:\n",
    "        out.write('#: name: Acc X Eff for TChiWW in WH with pT miss {} \\n'.format(bin[i]))\n",
    "        out.write('#: description: Acceptance times efficiency for TChiWW in WH region with pT miss(low) {}. Bins with 0 values are indicated by $1e^(-12)\\pm 1e^(-12)$.\\n'.format(bin[i]))\n",
    "        out.write('$m_{NLSP}$ [GeV],$m_{LSP}$ [GeV],Acceptance x Efficiency \\n')\n",
    "        with open(\"orig/HEPData-1680807545-v1-Acc_X_Eff_for_TChiWW_in_WHSR.csv\", 'r') as file:\n",
    "            csvreader = csv.reader(file)\n",
    "            for line in csvreader:\n",
    "                if '#' in line[0] or '$' in line[0]: continue\n",
    "                if bin[i] in line[3]: \n",
    "                    out.write('{},{},{} \\n'.format(line[0],line[1],line[5]))"
   ]
  },
  {
   "cell_type": "markdown",
   "id": "e8b8be4e",
   "metadata": {},
   "source": [
    "# WH SR TChiWZ"
   ]
  },
  {
   "cell_type": "code",
   "execution_count": 38,
   "id": "56b9b93c",
   "metadata": {},
   "outputs": [],
   "source": [
    "bin = ['200','250','300','350','400','450','500','600']\n",
    "with open(\"orig/HEPData-1680807545-v1-Acc_X_Eff_for_TChiWZ_in_WHSR.csv\", 'r') as file:\n",
    "    csvreader = csv.reader(file)\n",
    "    for line in csvreader:\n",
    "        if '#' in line[0] or '$' in line[0]: continue\n",
    "        #if bin[6] in line[3] : print(line[0],line[1],line[3],line[5])"
   ]
  },
  {
   "cell_type": "code",
   "execution_count": 39,
   "id": "51595e73",
   "metadata": {},
   "outputs": [],
   "source": [
    "for i in range(len(bin)):\n",
    "    with open(f\"orig/Acc_X_Eff_for_TChiWZ_in_WHSR_bin{i+1}.csv\",'w') as out:\n",
    "        out.write('#: name: Acc X Eff for TChiWZ in WH with pT miss {} \\n'.format(bin[i]))\n",
    "        out.write('#: description: Acceptance times efficiency for TChiWZ in WH region with pT miss(low) {}. Bins with 0 values are indicated by $1e^(-12)\\pm 1e^(-12)$.\\n'.format(bin[i]))\n",
    "        out.write('$m_{NLSP}$ [GeV],$m_{LSP}$ [GeV],Acceptance x Efficiency \\n')\n",
    "        with open(\"orig/HEPData-1680807545-v1-Acc_X_Eff_for_TChiWZ_in_WHSR.csv\", 'r') as file:\n",
    "            csvreader = csv.reader(file)\n",
    "            for line in csvreader:\n",
    "                if '#' in line[0] or '$' in line[0]: continue\n",
    "                if bin[i] in line[3]: \n",
    "                    out.write('{},{},{} \\n'.format(line[0],line[1],line[5]))"
   ]
  },
  {
   "cell_type": "markdown",
   "id": "1988c6f5",
   "metadata": {},
   "source": [
    "# WH SR TChiWH"
   ]
  },
  {
   "cell_type": "code",
   "execution_count": 42,
   "id": "1491fa3c",
   "metadata": {},
   "outputs": [],
   "source": [
    "bin = ['200','250','300','350','400','450','500','600']\n",
    "with open(\"orig/HEPData-1680807545-v1-Acc_X_Eff_for_TChiWH_in_WHSR.csv\", 'r') as file:\n",
    "    csvreader = csv.reader(file)\n",
    "    for line in csvreader:\n",
    "        if '#' in line[0] or '$' in line[0]: continue\n",
    "        #if bin[6] in line[3] : print(line[0],line[1],line[3],line[5])"
   ]
  },
  {
   "cell_type": "code",
   "execution_count": 43,
   "id": "fb0ecba9",
   "metadata": {},
   "outputs": [],
   "source": [
    "for i in range(len(bin)):\n",
    "    with open(f\"orig/Acc_X_Eff_for_TChiWH_in_WHSR_bin{i+1}.csv\",'w') as out:\n",
    "        out.write('#: name: Acc X Eff for TChiWH in WH with pT miss {} \\n'.format(bin[i]))\n",
    "        out.write('#: description: Acceptance times efficiency for TChiWH in WH region with pT miss(low) {}. Bins with 0 values are indicated by $1e^(-12)\\pm 1e^(-12)$.\\n'.format(bin[i]))\n",
    "        out.write('$m_{NLSP}$ [GeV],$m_{LSP}$ [GeV],Acceptance x Efficiency \\n')\n",
    "        with open(\"orig/HEPData-1680807545-v1-Acc_X_Eff_for_TChiWH_in_WHSR.csv\", 'r') as file:\n",
    "            csvreader = csv.reader(file)\n",
    "            for line in csvreader:\n",
    "                if '#' in line[0] or '$' in line[0]: continue\n",
    "                if bin[i] in line[3]: \n",
    "                    out.write('{},{},{} \\n'.format(line[0],line[1],line[5]))"
   ]
  },
  {
   "cell_type": "markdown",
   "id": "7a64890c",
   "metadata": {},
   "source": [
    "# W SR TChiWW"
   ]
  },
  {
   "cell_type": "code",
   "execution_count": 47,
   "id": "f3596a66",
   "metadata": {},
   "outputs": [],
   "source": [
    "bin = ['200','250','300','350','400','450','500','600','800']\n",
    "with open(\"orig/HEPData-1680807545-v1-Acc_X_Eff_for_TChiWW_in_WSR.csv\", 'r') as file:\n",
    "    csvreader = csv.reader(file)\n",
    "    for line in csvreader:\n",
    "        if '#' in line[0] or '$' in line[0]: continue\n",
    "        #if bin[8] in line[3] : print(line[0],line[1],line[3],line[5])"
   ]
  },
  {
   "cell_type": "code",
   "execution_count": 48,
   "id": "8d6725f8",
   "metadata": {},
   "outputs": [],
   "source": [
    "for i in range(len(bin)):\n",
    "    with open(f\"orig/Acc_X_Eff_for_TChiWW_in_WSR_bin{i+1}.csv\",'w') as out:\n",
    "        out.write('#: name: Acc X Eff for TChiWW in W region with pT miss {} \\n'.format(bin[i]))\n",
    "        out.write('#: description: Acceptance times efficiency for TChiWW in W region with pT miss(low) {}. Bins with 0 values are indicated by $1e^(-12)\\pm 1e^(-12)$.\\n'.format(bin[i]))\n",
    "        out.write('$m_{NLSP}$ [GeV],$m_{LSP}$ [GeV],Acceptance x Efficiency \\n')\n",
    "        with open(\"orig/HEPData-1680807545-v1-Acc_X_Eff_for_TChiWW_in_WSR.csv\", 'r') as file:\n",
    "            csvreader = csv.reader(file)\n",
    "            for line in csvreader:\n",
    "                if '#' in line[0] or '$' in line[0]: continue\n",
    "                if bin[i] in line[3]: \n",
    "                    out.write('{},{},{} \\n'.format(line[0],line[1],line[5]))"
   ]
  },
  {
   "cell_type": "markdown",
   "id": "1bd4f199",
   "metadata": {},
   "source": [
    "# W SR TChiWZ"
   ]
  },
  {
   "cell_type": "code",
   "execution_count": 50,
   "id": "0c932eca",
   "metadata": {},
   "outputs": [],
   "source": [
    "bin = ['200','250','300','350','400','450','500','600','800']\n",
    "with open(\"orig/HEPData-1680807545-v1-Acc_X_Eff_for_TChiWZ_in_WSR.csv\", 'r') as file:\n",
    "    csvreader = csv.reader(file)\n",
    "    for line in csvreader:\n",
    "        if '#' in line[0] or '$' in line[0]: continue\n",
    "        #if bin[8] in line[3] : print(line[0],line[1],line[3],line[5])"
   ]
  },
  {
   "cell_type": "code",
   "execution_count": 51,
   "id": "5c24846d",
   "metadata": {},
   "outputs": [],
   "source": [
    "for i in range(len(bin)):\n",
    "    with open(f\"orig/Acc_X_Eff_for_TChiWZ_in_WSR_bin{i+1}.csv\",'w') as out:\n",
    "        out.write('#: name: Acc X Eff for TChiWZ in W region with pT miss {} \\n'.format(bin[i]))\n",
    "        out.write('#: description: Acceptance times efficiency for TChiWZ in W region with pT miss(low) {}. Bins with 0 values are indicated by $1e^(-12)\\pm 1e^(-12)$.\\n'.format(bin[i]))\n",
    "        out.write('$m_{NLSP}$ [GeV],$m_{LSP}$ [GeV],Acceptance x Efficiency \\n')\n",
    "        with open(\"orig/HEPData-1680807545-v1-Acc_X_Eff_for_TChiWZ_in_WSR.csv\", 'r') as file:\n",
    "            csvreader = csv.reader(file)\n",
    "            for line in csvreader:\n",
    "                if '#' in line[0] or '$' in line[0]: continue\n",
    "                if bin[i] in line[3]: \n",
    "                    out.write('{},{},{} \\n'.format(line[0],line[1],line[5]))"
   ]
  },
  {
   "cell_type": "markdown",
   "id": "eaff33a6",
   "metadata": {},
   "source": [
    "# W SR TChiWH"
   ]
  },
  {
   "cell_type": "code",
   "execution_count": 54,
   "id": "d32e3351",
   "metadata": {},
   "outputs": [],
   "source": [
    "bin = ['200','250','300','350','400','450','500','600','800']\n",
    "with open(\"orig/HEPData-1680807545-v1-Acc_X_Eff_for_TChiWH_in_WSR.csv\", 'r') as file:\n",
    "    csvreader = csv.reader(file)\n",
    "    for line in csvreader:\n",
    "        if '#' in line[0] or '$' in line[0]: continue\n",
    "        #if bin[8] in line[3] : print(line[0],line[1],line[3],line[5])"
   ]
  },
  {
   "cell_type": "code",
   "execution_count": 55,
   "id": "59e9da7f",
   "metadata": {},
   "outputs": [],
   "source": [
    "for i in range(len(bin)):\n",
    "    with open(f\"orig/Acc_X_Eff_for_TChiWH_in_WSR_bin{i+1}.csv\",'w') as out:\n",
    "        out.write('#: name: Acc X Eff for TChiWH in W region with pT miss {} \\n'.format(bin[i]))\n",
    "        out.write('#: description: Acceptance times efficiency for TChiWH in W region with pT miss(low) {}. Bins with 0 values are indicated by $1e^(-12)\\pm 1e^(-12)$.\\n'.format(bin[i]))\n",
    "        out.write('$m_{NLSP}$ [GeV],$m_{LSP}$ [GeV],Acceptance x Efficiency \\n')\n",
    "        with open(\"orig/HEPData-1680807545-v1-Acc_X_Eff_for_TChiWH_in_WSR.csv\", 'r') as file:\n",
    "            csvreader = csv.reader(file)\n",
    "            for line in csvreader:\n",
    "                if '#' in line[0] or '$' in line[0]: continue\n",
    "                if bin[i] in line[3]: \n",
    "                    out.write('{},{},{} \\n'.format(line[0],line[1],line[5]))"
   ]
  },
  {
   "cell_type": "markdown",
   "id": "28f43ae3",
   "metadata": {},
   "source": [
    "# H SR TChiWW"
   ]
  },
  {
   "cell_type": "code",
   "execution_count": 58,
   "id": "abfb1920",
   "metadata": {},
   "outputs": [],
   "source": [
    "bin = ['200','250','300','350','400','450','500','600','800']\n",
    "with open(\"orig/HEPData-1680807545-v1-Acc_X_Eff_for_TChiWW_in_HSR.csv\", 'r') as file:\n",
    "    csvreader = csv.reader(file)\n",
    "    for line in csvreader:\n",
    "        if '#' in line[0] or '$' in line[0]: continue\n",
    "        #if bin[6] in line[3] : print(line[0],line[1],line[3],line[5])"
   ]
  },
  {
   "cell_type": "code",
   "execution_count": 59,
   "id": "c390d267",
   "metadata": {},
   "outputs": [],
   "source": [
    "for i in range(len(bin)):\n",
    "    with open(f\"orig/Acc_X_Eff_for_TChiWW_in_HSR_bin{i+1}.csv\",'w') as out:\n",
    "        out.write('#: name: Acc X Eff for TChiWW in H region with pT miss {} \\n'.format(bin[i]))\n",
    "        out.write('#: description: Acceptance times efficiency for TChiWW in H region with pT miss(low) {}. Bins with 0 values are indicated by $1e^(-12)\\pm 1e^(-12)$.\\n'.format(bin[i]))\n",
    "        out.write('$m_{NLSP}$ [GeV],$m_{LSP}$ [GeV],Acceptance x Efficiency \\n')\n",
    "        with open(\"orig/HEPData-1680807545-v1-Acc_X_Eff_for_TChiWW_in_HSR.csv\", 'r') as file:\n",
    "            csvreader = csv.reader(file)\n",
    "            for line in csvreader:\n",
    "                if '#' in line[0] or '$' in line[0]: continue\n",
    "                if bin[i] in line[3]: \n",
    "                    out.write('{},{},{} \\n'.format(line[0],line[1],line[5]))"
   ]
  },
  {
   "cell_type": "markdown",
   "id": "b0d20371",
   "metadata": {},
   "source": [
    "# H SR TChiWZ"
   ]
  },
  {
   "cell_type": "code",
   "execution_count": 62,
   "id": "87e1a860",
   "metadata": {},
   "outputs": [],
   "source": [
    "bin = ['200','250','300','350','400','450','500','600','800']\n",
    "with open(\"orig/HEPData-1680807545-v1-Acc_X_Eff_for_TChiWZ_in_HSR.csv\", 'r') as file:\n",
    "    csvreader = csv.reader(file)\n",
    "    for line in csvreader:\n",
    "        if '#' in line[0] or '$' in line[0]: continue\n",
    "        #if bin[8] in line[3] : print(line[0],line[1],line[3],line[5])"
   ]
  },
  {
   "cell_type": "code",
   "execution_count": 63,
   "id": "2c1b65cf",
   "metadata": {},
   "outputs": [],
   "source": [
    "for i in range(len(bin)):\n",
    "    with open(f\"orig/Acc_X_Eff_for_TChiWZ_in_HSR_bin{i+1}.csv\",'w') as out:\n",
    "        out.write('#: name: Acc X Eff for TChiWZ in H region with pT miss {} \\n'.format(bin[i]))\n",
    "        out.write('#: description: Acceptance times efficiency for TChiWZ in H region with pT miss(low) {}. Bins with 0 values are indicated by $1e^(-12)\\pm 1e^(-12)$.\\n'.format(bin[i]))\n",
    "        out.write('$m_{NLSP}$ [GeV],$m_{LSP}$ [GeV],Acceptance x Efficiency \\n')\n",
    "        with open(\"orig/HEPData-1680807545-v1-Acc_X_Eff_for_TChiWZ_in_HSR.csv\", 'r') as file:\n",
    "            csvreader = csv.reader(file)\n",
    "            for line in csvreader:\n",
    "                if '#' in line[0] or '$' in line[0]: continue\n",
    "                if bin[i] in line[3]: \n",
    "                    out.write('{},{},{} \\n'.format(line[0],line[1],line[5]))"
   ]
  },
  {
   "cell_type": "markdown",
   "id": "9b3875f5",
   "metadata": {},
   "source": [
    "# H SR TChiWH"
   ]
  },
  {
   "cell_type": "code",
   "execution_count": 66,
   "id": "86455adb",
   "metadata": {},
   "outputs": [],
   "source": [
    "bin = ['200','250','300','350','400','450','500','600','800']\n",
    "with open(\"orig/HEPData-1680807545-v1-Acc_X_Eff_for_TChiWH_in_HSR.csv\", 'r') as file:\n",
    "    csvreader = csv.reader(file)\n",
    "    for line in csvreader:\n",
    "        if '#' in line[0] or '$' in line[0]: continue\n",
    "        #if bin[6] in line[3] : print(line[0],line[1],line[3],line[5])"
   ]
  },
  {
   "cell_type": "code",
   "execution_count": 67,
   "id": "44377d53",
   "metadata": {},
   "outputs": [],
   "source": [
    "for i in range(len(bin)):\n",
    "    with open(f\"orig/Acc_X_Eff_for_TChiWH_in_HSR_bin{i+1}.csv\",'w') as out:\n",
    "        out.write('#: name: Acc X Eff for TChiWH in H region with pT miss {} \\n'.format(bin[i]))\n",
    "        out.write('#: description: Acceptance times efficiency for TChiWH in H region with pT miss(low) {}. Bins with 0 values are indicated by $1e^(-12)\\pm 1e^(-12)$.\\n'.format(bin[i]))\n",
    "        out.write('$m_{NLSP}$ [GeV],$m_{LSP}$ [GeV],Acceptance x Efficiency \\n')\n",
    "        with open(\"orig/HEPData-1680807545-v1-Acc_X_Eff_for_TChiWH_in_HSR.csv\", 'r') as file:\n",
    "            csvreader = csv.reader(file)\n",
    "            for line in csvreader:\n",
    "                if '#' in line[0] or '$' in line[0]: continue\n",
    "                if bin[i] in line[3]: \n",
    "                    out.write('{},{},{} \\n'.format(line[0],line[1],line[5]))"
   ]
  },
  {
   "cell_type": "code",
   "execution_count": null,
   "id": "64261015",
   "metadata": {},
   "outputs": [],
   "source": []
  }
 ],
 "metadata": {
  "kernelspec": {
   "display_name": "Python 3 (ipykernel)",
   "language": "python",
   "name": "python3"
  },
  "language_info": {
   "codemirror_mode": {
    "name": "ipython",
    "version": 3
   },
   "file_extension": ".py",
   "mimetype": "text/x-python",
   "name": "python",
   "nbconvert_exporter": "python",
   "pygments_lexer": "ipython3",
   "version": "3.11.1"
  }
 },
 "nbformat": 4,
 "nbformat_minor": 5
}
